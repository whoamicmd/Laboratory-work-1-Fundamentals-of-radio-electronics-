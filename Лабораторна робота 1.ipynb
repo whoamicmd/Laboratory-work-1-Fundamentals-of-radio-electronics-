{
 "cells": [
  {
   "cell_type": "markdown",
   "id": "9af2472c-2749-4f00-a006-61d4ddc4ccfc",
   "metadata": {},
   "source": [
    "<center><h1>Звіт Лабораторна робота №1</h1></center>"
   ]
  },
  {
   "cell_type": "markdown",
   "id": "10f360c1-095d-4058-8a90-9a88960dad29",
   "metadata": {},
   "source": [
    "<center><h2>Виконав студент групи РА-241 Жук Дмитро</h2></center>"
   ]
  },
  {
   "cell_type": "markdown",
   "id": "34701dbc-ee4a-4543-9d4e-fb591d777afd",
   "metadata": {},
   "source": [
    "<h4>Мета роботи - дослідження властивостей лінійного електричного ланцюга, способів знаходження струмів у гілках методом накладання та за законами Кірхгофа, способів визначення потенціалів точок електричного ланцюга та дослідження передачі енергії від активного двополюсника.</h4>"
   ]
  },
  {
   "cell_type": "markdown",
   "id": "73a8431c-4ca1-4894-99c3-8aef0d44bb18",
   "metadata": {},
   "source": [
    "При виконанні роботи вивчатимемо схему наведену на малюнку"
   ]
  },
  {
   "cell_type": "markdown",
   "id": "ac59135b-21f4-4968-bfca-af44613469ae",
   "metadata": {},
   "source": [
    "<center><img src=\"images/photo_2025-09-18_21-03-32.jpg\" width=\"500\" /></center>"
   ]
  },
  {
   "attachments": {},
   "cell_type": "markdown",
   "id": "cfd146c5-ac7b-4b50-9cc1-96ffecd59fd4",
   "metadata": {},
   "source": [
    "Чисельні значення напруги джерел VS1 і VS2 визначаються за номером бригади і двом останнім розрядам подання цього номера в двійковій формі. **Для розрахунків використаємо Python.**"
   ]
  },
  {
   "attachments": {},
   "cell_type": "markdown",
   "id": "e49339d9-b03f-4430-862b-a96774e129d1",
   "metadata": {},
   "source": [
    "<center><img src=\"WINWORD_5EdT1zPiUP.png\" width=\"150\" /></center>"
   ]
  },
  {
   "cell_type": "code",
   "execution_count": 1,
   "id": "f4c3371d-d900-4d74-83e1-5ea8c46873b8",
   "metadata": {},
   "outputs": [
    {
     "data": {
      "text/plain": [
       "(-16, -21)"
      ]
     },
     "execution_count": 1,
     "metadata": {},
     "output_type": "execute_result"
    }
   ],
   "source": [
    "# Змінні\n",
    "N = 3;\n",
    "n = 1;\n",
    "m = 1;\n",
    "\n",
    "# Підстановка значень в формули\n",
    "E1 = ((-1) ** m) * (10 + 2 * N)\n",
    "E2 = ((-1) ** n) * (30 - 3 * N)\n",
    "\n",
    "E1, E2"
   ]
  },
  {
   "cell_type": "markdown",
   "id": "ee740468-a464-4b5c-8bde-2d6a4b1e2e8a",
   "metadata": {},
   "source": [
    "Рисунок схеми зібраної в TINA"
   ]
  },
  {
   "attachments": {},
   "cell_type": "markdown",
   "id": "e7b8185a-dd67-47be-b0a1-f0b06f9822e2",
   "metadata": {},
   "source": [
    "<center><img src=\"images/mspaint_J7qwXmeHDf.png\" width=\"500\"/></center>"
   ]
  },
  {
   "cell_type": "markdown",
   "id": "110990d9-8f6c-407b-89e8-433028bfda6e",
   "metadata": {},
   "source": [
    "Таблиця вимірів та розрахунків 1.1\n",
    "|  | $E_1 \\not = 0, E_2 = 0$ | $E_1 = 0, E_2 \\not = 0$| $E_1 \\not = 0, E_2 \\not = 0$ <br>Досвід</br> | $E_1 \\not = 0, E_2 \\not = 0$ <br>Розрахунок</br> |\n",
    "| --------- | ---------- | ---------- | ---------- | ---------- |\n",
    "| $I_1,$ мА | -8,23 мА | 0,55497 мА | 7,68 мА | -7,677 мА |\n",
    "| $I_2,$ мА | -0,46512 мА | 1,11 мА | 0,64482 мА | 0,64482 мА |\n",
    "| $I_3,$ мА | -0,42283 мА | 1,88 мА | 1,45 мА | 1,453 мА |\n",
    "| $I_4,$ мА | 0,46512 мА | -1,11 мА | -0,64482 мА | 0,64482 мА |\n",
    "| $I_5,$ мА | -7,77 мА | -0,55497 мА | -8,32 мА | -8,322 мА |\n",
    "| $I_6,$ мА | 0,04228 мА | 0,76687 мА | 0,80915 мА | 0,80914 мА |\n"
   ]
  },
  {
   "cell_type": "markdown",
   "id": "91d1bf67-45c8-4fb1-8516-f1eaf003fa8c",
   "metadata": {},
   "source": [
    "$$ \n",
    "\\begin{cases} \n",
    "I_{11} \\cdot (R_1 + R_5) - I_{22} \\cdot R_5 = E_1 \\\\\n",
    "I_{22} \\cdot (R_2 + R_4 + R_5 + R_6) - I_{11} \\cdot R_5 - I_{33} \\cdot R_6 \\\\\n",
    "I_{33} \\cdot (R_3 + R_6) - I_{22} \\cdot R_6 = - E_2 \\\\\n",
    "\\end{cases}\n",
    "$$"
   ]
  },
  {
   "cell_type": "code",
   "execution_count": 2,
   "id": "207aa53d-b9bd-4683-aba3-df87791f1167",
   "metadata": {},
   "outputs": [
    {
     "data": {
      "text/plain": [
       "{I11: (E1*R2*R3 + E1*R2*R6 + E1*R3*R4 + E1*R3*R5 + E1*R3*R6 + E1*R4*R6 + E1*R5*R6 - E2*R5*R6)/(R1*R2*R3 + R1*R2*R6 + R1*R3*R4 + R1*R3*R5 + R1*R3*R6 + R1*R4*R6 + R1*R5*R6 + R2*R3*R5 + R2*R5*R6 + R3*R4*R5 + R3*R5*R6 + R4*R5*R6),\n",
       " I22: (E1*R3*R5 + E1*R5*R6 - E2*R1*R6 - E2*R5*R6)/(R1*R2*R3 + R1*R2*R6 + R1*R3*R4 + R1*R3*R5 + R1*R3*R6 + R1*R4*R6 + R1*R5*R6 + R2*R3*R5 + R2*R5*R6 + R3*R4*R5 + R3*R5*R6 + R4*R5*R6),\n",
       " I33: (E1*R5*R6 - E2*R1*R2 - E2*R1*R4 - E2*R1*R5 - E2*R1*R6 - E2*R2*R5 - E2*R4*R5 - E2*R5*R6)/(R1*R2*R3 + R1*R2*R6 + R1*R3*R4 + R1*R3*R5 + R1*R3*R6 + R1*R4*R6 + R1*R5*R6 + R2*R3*R5 + R2*R5*R6 + R3*R4*R5 + R3*R5*R6 + R4*R5*R6)}"
      ]
     },
     "execution_count": 2,
     "metadata": {},
     "output_type": "execute_result"
    }
   ],
   "source": [
    "import sympy as smp\n",
    "import numpy as np\n",
    "\n",
    "E1_s = -16;\n",
    "E2_s = -21;\n",
    "\n",
    "R1_s = 1000;\n",
    "R2_s = 4700;\n",
    "R3_s = 2200;\n",
    "R4_s = 10000;\n",
    "R5_s = 1000;\n",
    "R6_s = 22000;\n",
    "\n",
    "E1 = smp.symbols('E1')  # Time symbol\n",
    "E2 = smp.symbols('E2')  # Time symbol\n",
    "R1 = smp.symbols('R1')  # Time symbol\n",
    "R2 = smp.symbols('R2')  # Time symbol\n",
    "R3 = smp.symbols('R3')  # Time symbol\n",
    "R4 = smp.symbols('R4')  # Time symbol\n",
    "R5 = smp.symbols('R5')  # Time symbol\n",
    "R6 = smp.symbols('R6')  # Time symbol\n",
    "\n",
    "I11 = smp.symbols('I11')  # Time symbol\n",
    "I22 = smp.symbols('I22')  # Time symbol\n",
    "I33 = smp.symbols('I33')  # Time symbol\n",
    "\n",
    "eq = [I11 * (R1 + R5) - I22 * R5 - E1,  \n",
    "      I22 * (R2 + R4 + R5 + R6) - I11 * R5 - I33 * R6, \n",
    "      I33 * (R3 + R6) - I22 * R6 + E2]\n",
    "\n",
    "sol = smp.solve(eq, [I11, I22, I33])\n",
    "sol"
   ]
  },
  {
   "cell_type": "code",
   "execution_count": 3,
   "id": "7fd34a44-97c2-465a-acae-8c21e17bd094",
   "metadata": {},
   "outputs": [
    {
     "data": {
      "text/latex": [
       "$\\displaystyle \\frac{E_{1} R_{2} R_{3} + E_{1} R_{2} R_{6} + E_{1} R_{3} R_{4} + E_{1} R_{3} R_{5} + E_{1} R_{3} R_{6} + E_{1} R_{4} R_{6} + E_{1} R_{5} R_{6} - E_{2} R_{5} R_{6}}{R_{1} R_{2} R_{3} + R_{1} R_{2} R_{6} + R_{1} R_{3} R_{4} + R_{1} R_{3} R_{5} + R_{1} R_{3} R_{6} + R_{1} R_{4} R_{6} + R_{1} R_{5} R_{6} + R_{2} R_{3} R_{5} + R_{2} R_{5} R_{6} + R_{3} R_{4} R_{5} + R_{3} R_{5} R_{6} + R_{4} R_{5} R_{6}}$"
      ],
      "text/plain": [
       "(E1*R2*R3 + E1*R2*R6 + E1*R3*R4 + E1*R3*R5 + E1*R3*R6 + E1*R4*R6 + E1*R5*R6 - E2*R5*R6)/(R1*R2*R3 + R1*R2*R6 + R1*R3*R4 + R1*R3*R5 + R1*R3*R6 + R1*R4*R6 + R1*R5*R6 + R2*R3*R5 + R2*R5*R6 + R3*R4*R5 + R3*R5*R6 + R4*R5*R6)"
      ]
     },
     "execution_count": 3,
     "metadata": {},
     "output_type": "execute_result"
    }
   ],
   "source": [
    "sol[I11]"
   ]
  },
  {
   "cell_type": "code",
   "execution_count": 4,
   "id": "c8cf9524-95e7-4a66-b142-03075dd8a55c",
   "metadata": {},
   "outputs": [
    {
     "data": {
      "text/latex": [
       "$\\displaystyle \\frac{E_{1} R_{3} R_{5} + E_{1} R_{5} R_{6} - E_{2} R_{1} R_{6} - E_{2} R_{5} R_{6}}{R_{1} R_{2} R_{3} + R_{1} R_{2} R_{6} + R_{1} R_{3} R_{4} + R_{1} R_{3} R_{5} + R_{1} R_{3} R_{6} + R_{1} R_{4} R_{6} + R_{1} R_{5} R_{6} + R_{2} R_{3} R_{5} + R_{2} R_{5} R_{6} + R_{3} R_{4} R_{5} + R_{3} R_{5} R_{6} + R_{4} R_{5} R_{6}}$"
      ],
      "text/plain": [
       "(E1*R3*R5 + E1*R5*R6 - E2*R1*R6 - E2*R5*R6)/(R1*R2*R3 + R1*R2*R6 + R1*R3*R4 + R1*R3*R5 + R1*R3*R6 + R1*R4*R6 + R1*R5*R6 + R2*R3*R5 + R2*R5*R6 + R3*R4*R5 + R3*R5*R6 + R4*R5*R6)"
      ]
     },
     "execution_count": 4,
     "metadata": {},
     "output_type": "execute_result"
    }
   ],
   "source": [
    "sol[I22]"
   ]
  },
  {
   "cell_type": "code",
   "execution_count": 5,
   "id": "a3330575-5d0c-43d0-9406-8c9f1d0a3ab3",
   "metadata": {},
   "outputs": [
    {
     "data": {
      "text/latex": [
       "$\\displaystyle \\frac{E_{1} R_{5} R_{6} - E_{2} R_{1} R_{2} - E_{2} R_{1} R_{4} - E_{2} R_{1} R_{5} - E_{2} R_{1} R_{6} - E_{2} R_{2} R_{5} - E_{2} R_{4} R_{5} - E_{2} R_{5} R_{6}}{R_{1} R_{2} R_{3} + R_{1} R_{2} R_{6} + R_{1} R_{3} R_{4} + R_{1} R_{3} R_{5} + R_{1} R_{3} R_{6} + R_{1} R_{4} R_{6} + R_{1} R_{5} R_{6} + R_{2} R_{3} R_{5} + R_{2} R_{5} R_{6} + R_{3} R_{4} R_{5} + R_{3} R_{5} R_{6} + R_{4} R_{5} R_{6}}$"
      ],
      "text/plain": [
       "(E1*R5*R6 - E2*R1*R2 - E2*R1*R4 - E2*R1*R5 - E2*R1*R6 - E2*R2*R5 - E2*R4*R5 - E2*R5*R6)/(R1*R2*R3 + R1*R2*R6 + R1*R3*R4 + R1*R3*R5 + R1*R3*R6 + R1*R4*R6 + R1*R5*R6 + R2*R3*R5 + R2*R5*R6 + R3*R4*R5 + R3*R5*R6 + R4*R5*R6)"
      ]
     },
     "execution_count": 5,
     "metadata": {},
     "output_type": "execute_result"
    }
   ],
   "source": [
    "sol[I33]"
   ]
  },
  {
   "cell_type": "code",
   "execution_count": 6,
   "id": "1ffec9ba-7c4a-47f2-b173-1fb9a04b3bef",
   "metadata": {},
   "outputs": [
    {
     "name": "stdout",
     "output_type": "stream",
     "text": [
      "-7263/946000\n",
      "61/94600\n",
      "1513/1040600\n"
     ]
    }
   ],
   "source": [
    "print(sol[I11].subs(E1, E1_s).subs(E2, E2_s).subs(R1, R1_s).subs(R2, R2_s).subs(R3, R3_s).subs(R4, R4_s).subs(R5, R5_s).subs(R6, R6_s))\n",
    "print(sol[I22].subs(E1, E1_s).subs(E2, E2_s).subs(R1, R1_s).subs(R2, R2_s).subs(R3, R3_s).subs(R4, R4_s).subs(R5, R5_s).subs(R6, R6_s))\n",
    "print(sol[I33].subs(E1, E1_s).subs(E2, E2_s).subs(R1, R1_s).subs(R2, R2_s).subs(R3, R3_s).subs(R4, R4_s).subs(R5, R5_s).subs(R6, R6_s))\n",
    "\n",
    "I11_s = (sol[I11].subs(E1, E1_s).subs(E2, E2_s).subs(R1, R1_s).subs(R2, R2_s).subs(R3, R3_s).subs(R4, R4_s).subs(R5, R5_s).subs(R6, R6_s))\n",
    "I22_s = (sol[I22].subs(E1, E1_s).subs(E2, E2_s).subs(R1, R1_s).subs(R2, R2_s).subs(R3, R3_s).subs(R4, R4_s).subs(R5, R5_s).subs(R6, R6_s))\n",
    "I33_s = (sol[I33].subs(E1, E1_s).subs(E2, E2_s).subs(R1, R1_s).subs(R2, R2_s).subs(R3, R3_s).subs(R4, R4_s).subs(R5, R5_s).subs(R6, R6_s))"
   ]
  },
  {
   "cell_type": "markdown",
   "id": "8175b948-d240-4af8-9a17-410f0a56c10a",
   "metadata": {},
   "source": [
    "$$\n",
    "\\begin{cases} \n",
    "I_1 = I_{11} \\\\\n",
    "I_2 = I_{22} \\\\\n",
    "I_3 = I_{33} \\\\\n",
    "I_4 = I_{22} \\\\\n",
    "I_5 = I_{11} - I_{22}\\\\\n",
    "I_6 = I_{33} + I_{22}\n",
    "\\end{cases} \n",
    "$$"
   ]
  },
  {
   "cell_type": "code",
   "execution_count": 7,
   "id": "bdf9abae-d7d6-4f04-862d-6a0770c5c64c",
   "metadata": {},
   "outputs": [
    {
     "name": "stdout",
     "output_type": "stream",
     "text": [
      "-7.677589852008457e-06\n",
      "6.448202959830868e-07\n",
      "1.4539688641168557e-06\n",
      "6.448202959830868e-07\n",
      "-8.322410147991544e-06\n",
      "8.09148568133769e-07\n"
     ]
    }
   ],
   "source": [
    "I1 = I11\n",
    "I2 = I22\n",
    "I3 = I33\n",
    "I4 = I22\n",
    "I5 = I11 - I22\n",
    "I6 = I33 - I22\n",
    "\n",
    "print(float((I1.subs(I11, I11_s).subs(I22, I22_s).subs(I33, I33_s)) * 10 ** -3))\n",
    "print(float((I2.subs(I11, I11_s).subs(I22, I22_s).subs(I33, I33_s)) * 10 ** -3))\n",
    "print(float((I3.subs(I11, I11_s).subs(I22, I22_s).subs(I33, I33_s)) * 10 ** -3))\n",
    "print(float((I4.subs(I11, I11_s).subs(I22, I22_s).subs(I33, I33_s)) * 10 ** -3))\n",
    "print(float((I5.subs(I11, I11_s).subs(I22, I22_s).subs(I33, I33_s)) * 10 ** -3))\n",
    "print(float((I6.subs(I11, I11_s).subs(I22, I22_s).subs(I33, I33_s)) * 10 ** -3))"
   ]
  },
  {
   "cell_type": "markdown",
   "id": "35a714ae-75d8-4b46-907c-e91715ddc575",
   "metadata": {},
   "source": [
    "Запишемо результат розрахунків в таблицю 1.1"
   ]
  },
  {
   "cell_type": "markdown",
   "id": "4db5a4a0-ba2a-42c8-9043-cf650e917a2b",
   "metadata": {},
   "source": [
    "У схемі з одним джерелом напруги **E1** замість джерела **Е2** підключимо вольтметр і виміряємо напругу холостого ходу $U_x$$_x$ між розімкненими правими затискачами. Потім встановимо замість вольтметра перемичку та виміряємо струм короткого замкнення $I_к$$_з$."
   ]
  },
  {
   "attachments": {},
   "cell_type": "markdown",
   "id": "1c5da680-d204-4368-bd31-b6d655cb16d6",
   "metadata": {},
   "source": [
    "<center><img src=\"images/TINA_6kVeURgwK1.png\" width=\"330\"/><img src=\"images/TINA_ZPGGnlr8Fi.png\" width=\"330\"/><img src=\"images/TINA_dMHJsynfQG.png\" width=\"330\"/></center>"
   ]
  },
  {
   "cell_type": "code",
   "execution_count": 8,
   "id": "474881db-b9d3-4bc9-82c9-b867a58c014c",
   "metadata": {},
   "outputs": [
    {
     "name": "stdout",
     "output_type": "stream",
     "text": [
      "11.187 кОм\n"
     ]
    }
   ],
   "source": [
    "#За результатими вимірювань маємо такі данні Rout = 11,19 кОм\n",
    "Uxx = 4.73;\n",
    "Ikz = 422.83 * 10 ** -6;\n",
    "Rout = Uxx / Ikz\n",
    "print(f\"{Rout / 1000:.3f} кОм\")\n"
   ]
  },
  {
   "cell_type": "markdown",
   "id": "e3e2c60b-8133-47af-a581-1f1a4667a08f",
   "metadata": {},
   "source": [
    "Запишемо у таблицю 1.2 значення напруги у вузлах схеми щодо загального дроту (вузол \"f\")."
   ]
  },
  {
   "cell_type": "markdown",
   "id": "e7e31011-9cb7-4f66-8d99-7dd047e449aa",
   "metadata": {},
   "source": [
    "Таблиця вимірів та розрахунків 1.2\n",
    "| $U_a, $ $В$ | $U_b, $ $В$ | $U_c, $ $В$ | $U_d, $ $В$ | $U_e, $ $В$ |\n",
    "| --------- | ---------- | ---------- | ---------- | ---------- |\n",
    "| -16 В | -8,32 В | 11,35 В | 14,55 В | 6,45 В |"
   ]
  },
  {
   "cell_type": "markdown",
   "id": "33145930-2a37-40fc-97f0-2bc6a59d80f6",
   "metadata": {},
   "source": [
    "Зберемо схему показану на рисунку"
   ]
  },
  {
   "cell_type": "markdown",
   "id": "f257d89a-1a00-4a09-9132-c5f2887be70f",
   "metadata": {},
   "source": [
    "<center><img src=\"images/TINA_cNLMUjYNCY.png\" width=\"550\"/></center>"
   ]
  },
  {
   "cell_type": "markdown",
   "id": "3bd2d3b5-d607-49be-8780-53f54abb6d2a",
   "metadata": {},
   "source": [
    "Змінюючи опір резистора R7 від 0 до чотириразового значення вихідного опору $R_o$$_u$$_t$ (отриманого раніше). Заміряймо показання амперметра АМ2 та ватметра PM1. Результати занесемо до таблиці 1.3."
   ]
  },
  {
   "cell_type": "markdown",
   "id": "651e6ca6-fc5d-49ea-aed6-0578295c2054",
   "metadata": {},
   "source": [
    "Таблиця вимірів та розрахунків 1.3\n",
    "| | $0$ | $R_o$$_u$$_t /4$ | $R_o$$_u$$_t /2$ | $3 \\cdot R_o$$_u$$_t /4$ | $R_o$$_u$$_t$ | $2 \\cdot R_o$$_u$$_t$ | $3 \\cdot R_o$$_u$$_t$ | $4 \\cdot R_o$$_u$$_t$ |\n",
    "| --------- | ---------- | ---------- | ---------- | ---------- | ---------- | ---------- | ---------- | ---------- |\n",
    "| R7, Ом | 0 | 2800 | 5600 | 8400 | 11200 | 22400 | 33600 | 44800 |\n",
    "| АМ2, мА | -0,42283 | -0,3382 | -0,2818 | -0,24152 | -0,21131 | -0,14085 | -0,10563 | -0,0845 |\n",
    "| PM1, мВт | 0 | 0,32026 | 0,4447 | 0,48999 | 0,50012 | 0,44441 | 0,37491 | 0,3199 |"
   ]
  },
  {
   "cell_type": "code",
   "execution_count": 9,
   "id": "6b46f847-dfa9-49f7-af12-50aa6b68a89e",
   "metadata": {},
   "outputs": [],
   "source": [
    "# Виконаємо графік за допомогою бібліотеки matplotlib.pyplot\n",
    "import matplotlib.pyplot as plt\n",
    "\n",
    "R7 = [0, 2.8, 5.6, 8.4, 11.2, 22.4, 33.6, 44.8]\n",
    "AM2 = [0.42283, 0.3382, 0.2818, 0.24152, 0.21131, 0.14085, 0.10563, 0.0845]   \n",
    "PM1 = [0, 0.32026, 0.4447, 0.48999, 0.50012, 0.44441, 0.37491, 0.3199]      \n",
    "\n",
    "plt.figure(figsize=(5, 3))\n",
    "plt.plot(R7, AM2, label=\"AM2\", color=\"blue\")\n",
    "plt.plot(R7, PM1, label=\"PM1\", color=\"red\")\n",
    "\n",
    "plt.title(\"Графіки залежностей\")\n",
    "plt.xlabel(\"Опір\")\n",
    "plt.ylabel(\"Потужність та Струм\")\n",
    "plt.legend()\n",
    "plt.grid(True)\n",
    "plt.savefig(\"plot.png\")  # збереження графіка\n",
    "plt.close()"
   ]
  },
  {
   "cell_type": "markdown",
   "id": "df2df6ac-5a04-48d2-aaf1-b6f1fc02616d",
   "metadata": {},
   "source": [
    "<center><img src=\"images/plot.png\" width=\"500\"/></center>"
   ]
  },
  {
   "cell_type": "markdown",
   "id": "df680748-4ec6-4505-b2cc-eebfde88a1b5",
   "metadata": {},
   "source": [
    "За допомогою графіка можна визначити, що потужність в колі навантаження буде максимальною **0,5012 мВт** при опорі **11200 Ом** та струмі **0,21131 мА**."
   ]
  },
  {
   "cell_type": "markdown",
   "id": "56bba605-106f-45f0-bce6-f71bbd4e2ae4",
   "metadata": {},
   "source": [
    "Також отримаємо цей графік за допомогою TINA"
   ]
  },
  {
   "cell_type": "markdown",
   "id": "85e741aa-a1f4-4fe2-a6fa-4617ef54d8eb",
   "metadata": {},
   "source": [
    "<center><img src=\"images/TINA_kdNNlxb7j1.png\" width=\"500\"/></center>"
   ]
  },
  {
   "cell_type": "markdown",
   "id": "c95ce613-2c5a-47bb-aa37-e8e7d0a05286",
   "metadata": {},
   "source": [
    "Порахуємо, при якому значенні напруги **Е2** струм у заданій гілки дорівнюватиме нулю. В ланцюзі амперметра **АМ2**."
   ]
  },
  {
   "cell_type": "code",
   "execution_count": 20,
   "id": "df78f519-484e-4fe0-ae80-2d16c9290a39",
   "metadata": {},
   "outputs": [
    {
     "name": "stdout",
     "output_type": "stream",
     "text": [
      "Значення E2 для I33=0: -4.73118279569892 В\n"
     ]
    }
   ],
   "source": [
    "from sympy import symbols, Eq, solve, init_printing\n",
    "I33 = 0;\n",
    "\n",
    "# Співвідношення згідно системи:\n",
    "eq1 = Eq(I11*(R1 + R5) - I22*R5, E1)\n",
    "eq2 = Eq(I22*(R2 + R4 + R5 + R6) - I11*R5 - I33*R6, 0)\n",
    "eq3 = Eq(I33*(R3 + R6) - I22*R6, -E2)\n",
    "\n",
    "# Підставляємо I33=0 в eq3 та розв'язуємо систему для I11, I22, E2\n",
    "eq3_sub = Eq(0 - I22*R6, -E2)\n",
    "\n",
    "sol_i22 = solve(eq3_sub, I22)[0] # Cпрощується до I22 = E2/R6\n",
    "eq2_sub = eq2.subs({I22: sol_i22, I33: 0}) # Підставляємо I22, I33\n",
    "sol_i11 = solve(eq2_sub, I11)[0] # Розв'язуємо відносно I11\n",
    "\n",
    "eq1_sub = eq1.subs({I11: sol_i11, I22: sol_i22}) # Підставляємо I11 та I22 в eq1\n",
    "E2_sol = solve(eq1_sub, E2)[0] # Розв'язуємо відносно E2\n",
    "\n",
    "result = (E2_sol.subs(E1, E1_s).subs(R1, R1_s).subs(R2, R2_s).subs(R4, R4_s).subs(R5, R5_s).subs(R6, R6_s))\n",
    "print (f\"Значення E2 для I33=0: {result.evalf()} В\")"
   ]
  },
  {
   "cell_type": "code",
   "execution_count": 21,
   "id": "90ff1e71-861f-44a2-adf3-918f37099f35",
   "metadata": {},
   "outputs": [
    {
     "data": {
      "text/latex": [
       "$\\displaystyle \\frac{E_{1} R_{5} R_{6}}{R_{1} R_{2} + R_{1} R_{4} + R_{1} R_{5} + R_{1} R_{6} + R_{2} R_{5} + R_{4} R_{5} + R_{5} R_{6}}$"
      ],
      "text/plain": [
       "E1*R5*R6/(R1*R2 + R1*R4 + R1*R5 + R1*R6 + R2*R5 + R4*R5 + R5*R6)"
      ]
     },
     "execution_count": 21,
     "metadata": {},
     "output_type": "execute_result"
    }
   ],
   "source": [
    "E2_sol"
   ]
  },
  {
   "cell_type": "markdown",
   "id": "4ed81172-765c-44c3-883b-d5bf85640591",
   "metadata": {},
   "source": [
    "За даними таблиці 1.2 та значення струмів з таблиці 1.1 розрахуємо опори всіх гілок схеми."
   ]
  },
  {
   "cell_type": "code",
   "execution_count": 22,
   "id": "865b70d2-31e9-464e-b56e-a3d39338ccb7",
   "metadata": {},
   "outputs": [
    {
     "name": "stdout",
     "output_type": "stream",
     "text": [
      "Опори гілок за розрахунками R1 = 1000, R2 = 4699, R3 = 2207, R4 = 10003, R5 = 1000, R6 = 21998\n"
     ]
    }
   ],
   "source": [
    "# Розрахуємо R1, R2, R3, R4, R5, R6 за допомогою поданих даних.\n",
    "\n",
    "U_a = 16;\n",
    "U_b = 8.32;\n",
    "U_c = 11.35;\n",
    "U_d = 14.55;\n",
    "U_e = 6.45;\n",
    "\n",
    "I1 = 0.00768;\n",
    "I2 = 0.00064482;\n",
    "I3 = 0.00145;\n",
    "I4 = 0.00064482;\n",
    "I5 = 0.00832;\n",
    "I6 = 0.00080915;\n",
    "\n",
    "R1 = abs((U_a - U_b)) / I1\n",
    "R2 = abs((U_b - U_c)) / I2\n",
    "R3 = abs((U_c - U_d)) / I3\n",
    "R4 = abs((U_e)) / I4\n",
    "R5 = abs((U_b)) / I5\n",
    "R6 = abs((U_c + U_e)) / I6\n",
    "\n",
    "print (f\"Опори гілок за розрахунками R1 = {R1:.0f}, R2 = {R2:.0f}, R3 = {R3:.0f}, R4 = {R4:.0f}, R5 = {R5:.0f}, R6 = {R6:.0f}\")"
   ]
  },
  {
   "cell_type": "markdown",
   "id": "7e9c32a9-90af-4fbd-90b1-2eca46b14943",
   "metadata": {},
   "source": [
    "Розрахуємо напругу холостого ходу $U_x$$_x$ та вихідний опір схеми $R_o$$_u$$_t$ з боку правих затискачів."
   ]
  },
  {
   "cell_type": "markdown",
   "id": "c6d0c257-78ce-4c72-8491-063578f171b4",
   "metadata": {},
   "source": [
    "Для ланцюга з одним джерелом напруги Е1 та заданим значенням резистора R7 розрахуємо струми та напруги на всіх елементах схеми (резистори від R1 до R7 і джерело Е1), а також потужність, що виділяється на цих елементах."
   ]
  },
  {
   "cell_type": "markdown",
   "id": "60310257-0769-419a-aa8a-66b7737a38ae",
   "metadata": {},
   "source": [
    "<center><img src=\"images/TINA_cNLMUjYNCY.png\" width=\"550\"/></center>"
   ]
  },
  {
   "cell_type": "markdown",
   "id": "3b81eb4b-8da3-4a29-9af4-6a8cd1a0d7e1",
   "metadata": {},
   "source": [
    "$$ \n",
    "\\begin{cases} \n",
    "I_{11} \\cdot (R_1 + R_5) - I_{22} \\cdot R_5 = E_1 \\\\\n",
    "I_{22} \\cdot (R_2 + R_4 + R_5 + R_6) - I_{11} \\cdot R_5 - I_{33} \\cdot R_6 \\\\\n",
    "I_{33} \\cdot (R_3 + R_6 + R_7) - I_{22} \\cdot R_6 \\\\\n",
    "\\end{cases}\n",
    "$$"
   ]
  },
  {
   "cell_type": "code",
   "execution_count": 52,
   "id": "744b7473-03c8-447a-9576-0ae7d9488d49",
   "metadata": {},
   "outputs": [
    {
     "data": {
      "text/plain": [
       "{I11: (E1*R2*R3 + E1*R2*R6 + E1*R2*R7 + E1*R3*R4 + E1*R3*R5 + E1*R3*R6 + E1*R4*R6 + E1*R4*R7 + E1*R5*R6 + E1*R5*R7 + E1*R6*R7)/(R1*R2*R3 + R1*R2*R6 + R1*R2*R7 + R1*R3*R4 + R1*R3*R5 + R1*R3*R6 + R1*R4*R6 + R1*R4*R7 + R1*R5*R6 + R1*R5*R7 + R1*R6*R7 + R2*R3*R5 + R2*R5*R6 + R2*R5*R7 + R3*R4*R5 + R3*R5*R6 + R4*R5*R6 + R4*R5*R7 + R5*R6*R7),\n",
       " I22: (E1*R3*R5 + E1*R5*R6 + E1*R5*R7)/(R1*R2*R3 + R1*R2*R6 + R1*R2*R7 + R1*R3*R4 + R1*R3*R5 + R1*R3*R6 + R1*R4*R6 + R1*R4*R7 + R1*R5*R6 + R1*R5*R7 + R1*R6*R7 + R2*R3*R5 + R2*R5*R6 + R2*R5*R7 + R3*R4*R5 + R3*R5*R6 + R4*R5*R6 + R4*R5*R7 + R5*R6*R7),\n",
       " I33: E1*R5*R6/(R1*R2*R3 + R1*R2*R6 + R1*R2*R7 + R1*R3*R4 + R1*R3*R5 + R1*R3*R6 + R1*R4*R6 + R1*R4*R7 + R1*R5*R6 + R1*R5*R7 + R1*R6*R7 + R2*R3*R5 + R2*R5*R6 + R2*R5*R7 + R3*R4*R5 + R3*R5*R6 + R4*R5*R6 + R4*R5*R7 + R5*R6*R7)}"
      ]
     },
     "execution_count": 52,
     "metadata": {},
     "output_type": "execute_result"
    }
   ],
   "source": [
    "R7_s = 11200;\n",
    "\n",
    "E1 = smp.symbols('E1')  # Time symbol\n",
    "E2 = smp.symbols('E2')  # Time symbol\n",
    "R1 = smp.symbols('R1')  # Time symbol\n",
    "R2 = smp.symbols('R2')  # Time symbol\n",
    "R3 = smp.symbols('R3')  # Time symbol\n",
    "R4 = smp.symbols('R4')  # Time symbol\n",
    "R5 = smp.symbols('R5')  # Time symbol\n",
    "R6 = smp.symbols('R6')  # Time symbol\n",
    "R7 = smp.symbols('R7')  # Time symbol\n",
    "\n",
    "I11 = smp.symbols('I11')  # Time symbol\n",
    "I22 = smp.symbols('I22')  # Time symbol\n",
    "I33 = smp.symbols('I33')  # Time symbol\n",
    "\n",
    "eq = [I11 * (R1 + R5) - I22 * R5 - E1,  \n",
    "      I22 * (R2 + R4 + R5 + R6) - I11 * R5 - I33 * R6, \n",
    "      I33 * (R3 + R6 + R7) - I22 * R6]\n",
    "\n",
    "sol = smp.solve(eq, [I11, I22, I33])\n",
    "sol"
   ]
  },
  {
   "cell_type": "code",
   "execution_count": 53,
   "id": "440de26d-296e-4870-9a79-6b1fba4f174a",
   "metadata": {},
   "outputs": [
    {
     "data": {
      "text/latex": [
       "$\\displaystyle \\frac{E_{1} R_{2} R_{3} + E_{1} R_{2} R_{6} + E_{1} R_{2} R_{7} + E_{1} R_{3} R_{4} + E_{1} R_{3} R_{5} + E_{1} R_{3} R_{6} + E_{1} R_{4} R_{6} + E_{1} R_{4} R_{7} + E_{1} R_{5} R_{6} + E_{1} R_{5} R_{7} + E_{1} R_{6} R_{7}}{R_{1} R_{2} R_{3} + R_{1} R_{2} R_{6} + R_{1} R_{2} R_{7} + R_{1} R_{3} R_{4} + R_{1} R_{3} R_{5} + R_{1} R_{3} R_{6} + R_{1} R_{4} R_{6} + R_{1} R_{4} R_{7} + R_{1} R_{5} R_{6} + R_{1} R_{5} R_{7} + R_{1} R_{6} R_{7} + R_{2} R_{3} R_{5} + R_{2} R_{5} R_{6} + R_{2} R_{5} R_{7} + R_{3} R_{4} R_{5} + R_{3} R_{5} R_{6} + R_{4} R_{5} R_{6} + R_{4} R_{5} R_{7} + R_{5} R_{6} R_{7}}$"
      ],
      "text/plain": [
       "(E1*R2*R3 + E1*R2*R6 + E1*R2*R7 + E1*R3*R4 + E1*R3*R5 + E1*R3*R6 + E1*R4*R6 + E1*R4*R7 + E1*R5*R6 + E1*R5*R7 + E1*R6*R7)/(R1*R2*R3 + R1*R2*R6 + R1*R2*R7 + R1*R3*R4 + R1*R3*R5 + R1*R3*R6 + R1*R4*R6 + R1*R4*R7 + R1*R5*R6 + R1*R5*R7 + R1*R6*R7 + R2*R3*R5 + R2*R5*R6 + R2*R5*R7 + R3*R4*R5 + R3*R5*R6 + R4*R5*R6 + R4*R5*R7 + R5*R6*R7)"
      ]
     },
     "execution_count": 53,
     "metadata": {},
     "output_type": "execute_result"
    }
   ],
   "source": [
    "sol[I11]"
   ]
  },
  {
   "cell_type": "code",
   "execution_count": 54,
   "id": "07a2ebb5-b392-4610-9096-69eb046f8220",
   "metadata": {},
   "outputs": [
    {
     "data": {
      "text/latex": [
       "$\\displaystyle \\frac{E_{1} R_{3} R_{5} + E_{1} R_{5} R_{6} + E_{1} R_{5} R_{7}}{R_{1} R_{2} R_{3} + R_{1} R_{2} R_{6} + R_{1} R_{2} R_{7} + R_{1} R_{3} R_{4} + R_{1} R_{3} R_{5} + R_{1} R_{3} R_{6} + R_{1} R_{4} R_{6} + R_{1} R_{4} R_{7} + R_{1} R_{5} R_{6} + R_{1} R_{5} R_{7} + R_{1} R_{6} R_{7} + R_{2} R_{3} R_{5} + R_{2} R_{5} R_{6} + R_{2} R_{5} R_{7} + R_{3} R_{4} R_{5} + R_{3} R_{5} R_{6} + R_{4} R_{5} R_{6} + R_{4} R_{5} R_{7} + R_{5} R_{6} R_{7}}$"
      ],
      "text/plain": [
       "(E1*R3*R5 + E1*R5*R6 + E1*R5*R7)/(R1*R2*R3 + R1*R2*R6 + R1*R2*R7 + R1*R3*R4 + R1*R3*R5 + R1*R3*R6 + R1*R4*R6 + R1*R4*R7 + R1*R5*R6 + R1*R5*R7 + R1*R6*R7 + R2*R3*R5 + R2*R5*R6 + R2*R5*R7 + R3*R4*R5 + R3*R5*R6 + R4*R5*R6 + R4*R5*R7 + R5*R6*R7)"
      ]
     },
     "execution_count": 54,
     "metadata": {},
     "output_type": "execute_result"
    }
   ],
   "source": [
    "sol[I22]"
   ]
  },
  {
   "cell_type": "code",
   "execution_count": 55,
   "id": "a8fecbc9-e558-4cf9-ba2a-339cf397ec02",
   "metadata": {},
   "outputs": [
    {
     "data": {
      "text/latex": [
       "$\\displaystyle \\frac{E_{1} R_{5} R_{6}}{R_{1} R_{2} R_{3} + R_{1} R_{2} R_{6} + R_{1} R_{2} R_{7} + R_{1} R_{3} R_{4} + R_{1} R_{3} R_{5} + R_{1} R_{3} R_{6} + R_{1} R_{4} R_{6} + R_{1} R_{4} R_{7} + R_{1} R_{5} R_{6} + R_{1} R_{5} R_{7} + R_{1} R_{6} R_{7} + R_{2} R_{3} R_{5} + R_{2} R_{5} R_{6} + R_{2} R_{5} R_{7} + R_{3} R_{4} R_{5} + R_{3} R_{5} R_{6} + R_{4} R_{5} R_{6} + R_{4} R_{5} R_{7} + R_{5} R_{6} R_{7}}$"
      ],
      "text/plain": [
       "E1*R5*R6/(R1*R2*R3 + R1*R2*R6 + R1*R2*R7 + R1*R3*R4 + R1*R3*R5 + R1*R3*R6 + R1*R4*R6 + R1*R4*R7 + R1*R5*R6 + R1*R5*R7 + R1*R6*R7 + R2*R3*R5 + R2*R5*R6 + R2*R5*R7 + R3*R4*R5 + R3*R5*R6 + R4*R5*R6 + R4*R5*R7 + R5*R6*R7)"
      ]
     },
     "execution_count": 55,
     "metadata": {},
     "output_type": "execute_result"
    }
   ],
   "source": [
    "sol[I33]"
   ]
  },
  {
   "cell_type": "code",
   "execution_count": 56,
   "id": "17af092a-08bd-4631-9319-8a7372a17f57",
   "metadata": {},
   "outputs": [
    {
     "name": "stdout",
     "output_type": "stream",
     "text": [
      "-42529/5205500\n",
      "-177/520550\n",
      "-11/52055\n"
     ]
    }
   ],
   "source": [
    "print(sol[I11].subs(E1, E1_s).subs(E2, E2_s).subs(R1, R1_s).subs(R2, R2_s).subs(R3, R3_s).subs(R4, R4_s).subs(R5, R5_s).subs(R6, R6_s).subs(R7, R7_s))\n",
    "print(sol[I22].subs(E1, E1_s).subs(E2, E2_s).subs(R1, R1_s).subs(R2, R2_s).subs(R3, R3_s).subs(R4, R4_s).subs(R5, R5_s).subs(R6, R6_s).subs(R7, R7_s))\n",
    "print(sol[I33].subs(E1, E1_s).subs(E2, E2_s).subs(R1, R1_s).subs(R2, R2_s).subs(R3, R3_s).subs(R4, R4_s).subs(R5, R5_s).subs(R6, R6_s).subs(R7, R7_s))\n",
    "\n",
    "I11_s = (sol[I11].subs(E1, E1_s).subs(E2, E2_s).subs(R1, R1_s).subs(R2, R2_s).subs(R3, R3_s).subs(R4, R4_s).subs(R5, R5_s).subs(R6, R6_s).subs(R7, R7_s))\n",
    "I22_s = (sol[I22].subs(E1, E1_s).subs(E2, E2_s).subs(R1, R1_s).subs(R2, R2_s).subs(R3, R3_s).subs(R4, R4_s).subs(R5, R5_s).subs(R6, R6_s).subs(R7, R7_s))\n",
    "I33_s = (sol[I33].subs(E1, E1_s).subs(E2, E2_s).subs(R1, R1_s).subs(R2, R2_s).subs(R3, R3_s).subs(R4, R4_s).subs(R5, R5_s).subs(R6, R6_s).subs(R7, R7_s))"
   ]
  },
  {
   "cell_type": "code",
   "execution_count": 92,
   "id": "46261719-390c-462f-9073-b30be103ff71",
   "metadata": {},
   "outputs": [
    {
     "name": "stdout",
     "output_type": "stream",
     "text": [
      "-0.008170012486792815 А\n",
      "-0.0003400249735856306\n",
      "-0.00021131495533570263\n",
      "-0.0003400249735856306\n",
      "-0.007829987513207185\n",
      "-0.00012871001824992797\n",
      "-0.00021131495533570263\n"
     ]
    }
   ],
   "source": [
    "I1 = I11\n",
    "I2 = I22\n",
    "I3 = I33\n",
    "I4 = I22\n",
    "I5 = I11 - I22\n",
    "I6 = I22 - I33\n",
    "I7 = I33\n",
    "\n",
    "print(float((I1.subs(I11, I11_s).subs(I22, I22_s).subs(I33, I33_s)) * 1))\n",
    "print(float((I2.subs(I11, I11_s).subs(I22, I22_s).subs(I33, I33_s)) * 1))\n",
    "print(float((I3.subs(I11, I11_s).subs(I22, I22_s).subs(I33, I33_s)) * 1))\n",
    "print(float((I4.subs(I11, I11_s).subs(I22, I22_s).subs(I33, I33_s)) * 1))\n",
    "print(float((I5.subs(I11, I11_s).subs(I22, I22_s).subs(I33, I33_s)) * 1))\n",
    "print(float((I6.subs(I11, I11_s).subs(I22, I22_s).subs(I33, I33_s)) * 1))\n",
    "print(float((I7.subs(I11, I11_s).subs(I22, I22_s).subs(I33, I33_s)) * 1))"
   ]
  },
  {
   "cell_type": "markdown",
   "id": "a4f6e612-512e-49f7-9458-9df611b12898",
   "metadata": {},
   "source": [
    "Тепер порахуємо напругу та потужність на елементах.\n"
   ]
  },
  {
   "cell_type": "code",
   "execution_count": 87,
   "id": "85903c39-1f4a-452a-bc5c-4e01a9c48e20",
   "metadata": {},
   "outputs": [
    {
     "name": "stdout",
     "output_type": "stream",
     "text": [
      "U1 = 8.17 В\n",
      "U2 = 1.60 В\n",
      "U3 = 0.46 В\n",
      "U4 = 3.40 В\n",
      "U5 = 7.83 В\n",
      "U6 = 2.83 В\n",
      "U7 = 2.36 В\n"
     ]
    }
   ],
   "source": [
    "I = [0.00817, 0.00034, 0.000211, 0.00034, 0.007829, 0.0001287, 0.000211]\n",
    "R = [1000, 4700, 2200, 10000, 1000, 22000, 11200]\n",
    "U = [0] * len(I)\n",
    "\n",
    "for i in range(0, len(I)):\n",
    "    print(f\"U{i+1} = {I[i] * R[i]:.2f} В\")\n",
    "    U[i] = I[i] * R[i]"
   ]
  },
  {
   "cell_type": "code",
   "execution_count": 88,
   "id": "d96b5cb6-f4e5-4780-a466-1c09b8a58f27",
   "metadata": {},
   "outputs": [
    {
     "name": "stdout",
     "output_type": "stream",
     "text": [
      "P1 = 0.06675 Вт\n",
      "P2 = 0.00054 Вт\n",
      "P3 = 0.00010 Вт\n",
      "P4 = 0.00116 Вт\n",
      "P5 = 0.06129 Вт\n",
      "P6 = 0.00036 Вт\n",
      "P7 = 0.00050 Вт\n"
     ]
    }
   ],
   "source": [
    "P = [0] * len(I)\n",
    "\n",
    "for i in range(0, len(I)):\n",
    "    print(f\"P{i+1} = {I[i] * U[i]:.5f} Вт\")\n",
    "    P[i] = I[i] * U[i]"
   ]
  },
  {
   "cell_type": "markdown",
   "id": "86849ba2-b57c-4025-bd6d-50b815c0e2d4",
   "metadata": {},
   "source": [
    "#### Висновок\n",
    "У цілому, результати експериментів і розрахунків повністю досягають мети роботи, демонструючи практичну застосовність теоретичних методів для аналізу та оптимізації електричних ланцюгів. Загальна похибка між симуляцією в TINA та аналітичними розрахунками (<2%) пояснюється округленням вимірів і дискретністю інструментів, але не впливає на якісні висновки. Робота підтверджує теоретичні основи електротехніки: лінійність, адитивність і максимальну ефективність при узгодженні. Рекомендується враховувати реальні похибки компонентів у фізичних експериментах для підвищення точності."
   ]
  }
 ],
 "metadata": {
  "kernelspec": {
   "display_name": "Python 3 (ipykernel)",
   "language": "python",
   "name": "python3"
  },
  "language_info": {
   "codemirror_mode": {
    "name": "ipython",
    "version": 3
   },
   "file_extension": ".py",
   "mimetype": "text/x-python",
   "name": "python",
   "nbconvert_exporter": "python",
   "pygments_lexer": "ipython3",
   "version": "3.10.11"
  }
 },
 "nbformat": 4,
 "nbformat_minor": 5
}
